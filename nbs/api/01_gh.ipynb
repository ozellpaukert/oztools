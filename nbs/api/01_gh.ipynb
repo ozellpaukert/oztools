{
 "cells": [
  {
   "cell_type": "markdown",
   "id": "9c8cf725-f4c7-4bd1-ab7f-c523a908ac4a",
   "metadata": {},
   "source": [
    "# gh\n",
    "\n",
    "> Command line utilities for github"
   ]
  },
  {
   "cell_type": "code",
   "execution_count": null,
   "id": "2eb94c62-53b2-49a8-94db-f6619642c2b7",
   "metadata": {},
   "outputs": [],
   "source": [
    "#| default_exp gh"
   ]
  },
  {
   "cell_type": "code",
   "execution_count": null,
   "id": "06942082-f99c-4350-95cd-27aa67151481",
   "metadata": {},
   "outputs": [],
   "source": [
    "#| hide\n",
    "from nbdev.showdoc import *"
   ]
  },
  {
   "cell_type": "code",
   "execution_count": null,
   "id": "914234e1-7dba-4993-89d3-cd6bdf17bd5c",
   "metadata": {},
   "outputs": [],
   "source": [
    "#| export\n",
    "from fastcore.all import *\n",
    "import itertools as it\n",
    "import os\n",
    "from ghapi.all import *"
   ]
  },
  {
   "cell_type": "markdown",
   "id": "56cd9835-df89-467c-8bc9-4dcea9ace9f0",
   "metadata": {},
   "source": [
    "To use this module you need to setup GitHub [personal access token](https://docs.github.com/github/authenticating-to-github/creating-a-personal-access-token), which is a secret code used to access your account. If you don't have one, [click here](https://github.com/settings/tokens/new) to create one. You'll be asked to enter a name -- choose anything you like, for instance \"oztools\".\n",
    "In \"scopes\" choose \"repo\", \"gist\", \"notifications\", and \"workflow\". Then clock \"Generate Token\" and copy the token. Then add it for example to your `.bashrc` as `export GITHUB_TOKEN=\"<your github token goes here>\"`."
   ]
  },
  {
   "cell_type": "code",
   "execution_count": null,
   "id": "088b8790-93ec-41fe-8ff6-d7a40dcad08e",
   "metadata": {},
   "outputs": [],
   "source": [
    "import configparser\n",
    "from pathlib import Path"
   ]
  },
  {
   "cell_type": "code",
   "execution_count": null,
   "id": "c490f316-4701-40ee-942f-609dc0df4f40",
   "metadata": {},
   "outputs": [],
   "source": [
    "configpath = Path(\"~/.gitconfig\").expanduser()\n",
    "\n",
    "config = configparser.ConfigParser()\n",
    "config.read(configpath)\n",
    "\n",
    "gh_username = config['user']['name']"
   ]
  },
  {
   "cell_type": "code",
   "execution_count": null,
   "id": "a5d2f179-7291-413d-a377-71d8b2cdfb54",
   "metadata": {},
   "outputs": [],
   "source": [
    "token = os.environ[\"GITHUB_TOKEN\"]"
   ]
  },
  {
   "cell_type": "code",
   "execution_count": null,
   "id": "efc4416c-725d-4966-a787-f0bc1b50322e",
   "metadata": {},
   "outputs": [],
   "source": [
    "api = GhApi(owner=gh_username, token=token)"
   ]
  },
  {
   "cell_type": "code",
   "execution_count": null,
   "id": "bfa62276-07c8-4659-b410-6394c7fd819a",
   "metadata": {},
   "outputs": [
    {
     "data": {
      "text/markdown": [
       "```json\n",
       "{ 'node_id': 'REF_kwDONy_jba9yZWZzL2hlYWRzL21haW4',\n",
       "  'object': { 'sha': '8a23e2af6915688ab9947858e904077ef62bbda0',\n",
       "              'type': 'commit',\n",
       "              'url': 'https://api.github.com/repos/ozellpaukert/oztools/git/commits/8a23e2af6915688ab9947858e904077ef62bbda0'},\n",
       "  'ref': 'refs/heads/main',\n",
       "  'url': 'https://api.github.com/repos/ozellpaukert/oztools/git/refs/heads/main'}\n",
       "```"
      ],
      "text/plain": [
       "{'ref': 'refs/heads/main',\n",
       " 'node_id': 'REF_kwDONy_jba9yZWZzL2hlYWRzL21haW4',\n",
       " 'url': 'https://api.github.com/repos/ozellpaukert/oztools/git/refs/heads/main',\n",
       " 'object': {'sha': '8a23e2af6915688ab9947858e904077ef62bbda0',\n",
       "  'type': 'commit',\n",
       "  'url': 'https://api.github.com/repos/ozellpaukert/oztools/git/commits/8a23e2af6915688ab9947858e904077ef62bbda0'}}"
      ]
     },
     "execution_count": null,
     "metadata": {},
     "output_type": "execute_result"
    }
   ],
   "source": [
    "api.git.get_ref(repo='oztools', ref='heads/main')"
   ]
  },
  {
   "cell_type": "code",
   "execution_count": null,
   "id": "806fc000-d2fc-484d-9a80-7e55fae05ceb",
   "metadata": {},
   "outputs": [
    {
     "data": {
      "text/markdown": [
       "- [git.create_blob](https://docs.github.com/rest/git/blobs#create-a-blob)(repo, content, encoding): *Create a blob*\n",
       "- [git.get_blob](https://docs.github.com/rest/git/blobs#get-a-blob)(repo, file_sha): *Get a blob*\n",
       "- [git.create_commit](https://docs.github.com/rest/git/commits#create-a-commit)(repo, message, tree, parents, author, committer, signature): *Create a commit*\n",
       "- [git.get_commit](https://docs.github.com/rest/git/commits#get-a-commit-object)(repo, commit_sha): *Get a commit object*\n",
       "- [git.list_matching_refs](https://docs.github.com/rest/git/refs#list-matching-references)(repo, ref): *List matching references*\n",
       "- [git.get_ref](https://docs.github.com/rest/git/refs#get-a-reference)(repo, ref): *Get a reference*\n",
       "- [git.create_ref](https://docs.github.com/rest/git/refs#create-a-reference)(repo, ref, sha): *Create a reference*\n",
       "- [git.update_ref](https://docs.github.com/rest/git/refs#update-a-reference)(repo, ref, sha, force): *Update a reference*\n",
       "- [git.delete_ref](https://docs.github.com/rest/git/refs#delete-a-reference)(repo, ref): *Delete a reference*\n",
       "- [git.create_tag](https://docs.github.com/rest/git/tags#create-a-tag-object)(repo, tag, message, object, type, tagger): *Create a tag object*\n",
       "- [git.get_tag](https://docs.github.com/rest/git/tags#get-a-tag)(repo, tag_sha): *Get a tag*\n",
       "- [git.create_tree](https://docs.github.com/rest/git/trees#create-a-tree)(repo, tree, base_tree): *Create a tree*\n",
       "- [git.get_tree](https://docs.github.com/rest/git/trees#get-a-tree)(repo, tree_sha, recursive): *Get a tree*"
      ],
      "text/plain": [
       "<ghapi.core._GhVerbGroup>"
      ]
     },
     "execution_count": null,
     "metadata": {},
     "output_type": "execute_result"
    }
   ],
   "source": [
    "api.git"
   ]
  },
  {
   "cell_type": "code",
   "execution_count": null,
   "id": "b6fca912-ff9d-4dcf-a11c-4e1e7c21d5a6",
   "metadata": {},
   "outputs": [],
   "source": [
    "#api.repos.list_for_org(\"\")"
   ]
  },
  {
   "cell_type": "code",
   "execution_count": null,
   "id": "c8f0df35-7697-44ae-b9d5-248dd05815c3",
   "metadata": {},
   "outputs": [],
   "source": []
  }
 ],
 "metadata": {
  "kernelspec": {
   "display_name": "python3",
   "language": "python",
   "name": "python3"
  }
 },
 "nbformat": 4,
 "nbformat_minor": 5
}
