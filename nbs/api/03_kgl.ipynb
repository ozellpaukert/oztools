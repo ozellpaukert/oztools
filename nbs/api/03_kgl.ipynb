{
 "cells": [
  {
   "cell_type": "markdown",
   "metadata": {},
   "source": [
    "# kgl\n",
    "\n",
    "> Command line utilities for kaggle competitions"
   ]
  },
  {
   "cell_type": "code",
   "execution_count": null,
   "metadata": {},
   "outputs": [],
   "source": [
    "#| default_exp kgl"
   ]
  },
  {
   "cell_type": "code",
   "execution_count": null,
   "metadata": {},
   "outputs": [],
   "source": [
    "#| hide\n",
    "from nbdev.showdoc import *"
   ]
  },
  {
   "cell_type": "code",
   "execution_count": null,
   "metadata": {},
   "outputs": [],
   "source": [
    "#| export\n",
    "from fastcore.all import *\n",
    "from fastkaggle import *\n",
    "import itertools as it\n",
    "\n",
    "from oztools.core import *"
   ]
  },
  {
   "cell_type": "code",
   "execution_count": null,
   "metadata": {},
   "outputs": [
    {
     "data": {
      "text/plain": [
       "('AI Mathematical Olympiad - Progress Prize 2',\n",
       " 'ai-mathematical-olympiad-progress-prize-2')"
      ]
     },
     "execution_count": null,
     "metadata": {},
     "output_type": "execute_result"
    }
   ],
   "source": [
    "api = import_kaggle()\n",
    "comps = api.competitions_list()\n",
    "comp = comps[0]\n",
    "comp.title, comp.url.split(\"/\")[-1]"
   ]
  },
  {
   "cell_type": "code",
   "execution_count": null,
   "metadata": {},
   "outputs": [
    {
     "data": {
      "text/plain": [
       "37"
      ]
     },
     "execution_count": null,
     "metadata": {},
     "output_type": "execute_result"
    }
   ],
   "source": [
    "len(\"equity-post-HCT-survival-prediction  \")"
   ]
  },
  {
   "cell_type": "code",
   "execution_count": null,
   "metadata": {},
   "outputs": [],
   "source": [
    "#| export\n",
    "def disp_comp(comp):\n",
    "    slug = comp.url.split(\"/\")[-1]\n",
    "    return f\"{pad(slug[:40],40)} {comp.title[:40]}\""
   ]
  },
  {
   "cell_type": "code",
   "execution_count": null,
   "metadata": {},
   "outputs": [],
   "source": [
    "joinedkey = attrkey(\"userHasEntered\")"
   ]
  },
  {
   "cell_type": "code",
   "execution_count": null,
   "metadata": {},
   "outputs": [],
   "source": [
    "comps.sort(key=joinedkey)\n",
    "active, entered = (list(y) for x,y in it.groupby(comps, lambda x: x.userHasEntered))"
   ]
  },
  {
   "cell_type": "code",
   "execution_count": null,
   "metadata": {},
   "outputs": [],
   "source": [
    "#| export\n",
    "@call_parse\n",
    "def kgl_list():\n",
    "    \"List kaggle competitions\"\n",
    "\n",
    "    api = import_kaggle()\n",
    "    comps = api.competitions_list()\n",
    "    \n",
    "    joinedkey = attrkey(\"userHasEntered\")\n",
    "    comps.sort(key=joinedkey)\n",
    "    active, entered = (list(y) for x,y in it.groupby(comps, joinedkey))\n",
    "\n",
    "    return '\\n'.join((\"Joined:\", *str_enumerate(map(disp_comp, entered), 1),\n",
    "                      \"Active:\", *str_enumerate(map(disp_comp, active), 1+len(entered))))"
   ]
  },
  {
   "cell_type": "code",
   "execution_count": null,
   "metadata": {},
   "outputs": [
    {
     "name": "stdout",
     "output_type": "stream",
     "text": [
      "Joined:\n",
      "  1   czii-cryo-et-object-identification       CZII - CryoET Object Identification\n",
      "  2   equity-post-HCT-survival-predictions     CIBMTR - Equity in post-HCT Survival Pre\n",
      "  3   playground-series-s5e2                   Backpack Prediction Challenge\n",
      "  4   store-sales-time-series-forecasting      Store Sales - Time Series Forecasting\n",
      "Active:\n",
      "  5   ai-mathematical-olympiad-progress-prize- AI Mathematical Olympiad - Progress Priz\n",
      "  6   konwinski-prize                          Konwinski Prize\n",
      "  7   llms-you-cant-please-them-all            LLMs - You Can't Please Them All\n",
      "  8   fide-google-efficiency-chess-ai-challeng FIDE & Google Efficient Chess AI Challen\n",
      "  9   wsdm-cup-multilingual-chatbot-arena      WSDM Cup - Multilingual Chatbot Arena\n",
      "  10  lux-ai-season-3                          NeurIPS 2024 - Lux AI Season 3\n",
      "  11  titanic                                  Titanic - Machine Learning from Disaster\n",
      "  12  home-data-for-ml-course                  Housing Prices Competition for Kaggle Le\n",
      "  13  house-prices-advanced-regression-techniq House Prices - Advanced Regression Techn\n",
      "  14  spaceship-titanic                        Spaceship Titanic\n",
      "  15  digit-recognizer                         Digit Recognizer\n",
      "  16  nlp-getting-started                      Natural Language Processing with Disaste\n",
      "  17  gan-getting-started                      I’m Something of a Painter Myself\n",
      "  18  connectx                                 Connect X\n",
      "  19  llm-classification-finetuning            LLM Classification Finetuning\n",
      "  20  tpu-getting-started                      Petals to the Metal - Flower Classificat\n"
     ]
    }
   ],
   "source": [
    "print(kgl_list())"
   ]
  },
  {
   "cell_type": "code",
   "execution_count": null,
   "metadata": {},
   "outputs": [],
   "source": [
    "#| export\n",
    "@call_parse\n",
    "def kgl_hello():\n",
    "    import os\n",
    "    return os.getcwd()"
   ]
  },
  {
   "cell_type": "code",
   "execution_count": null,
   "metadata": {},
   "outputs": [],
   "source": [
    "#| hide\n",
    "import nbdev; nbdev.nbdev_export()"
   ]
  },
  {
   "cell_type": "code",
   "execution_count": null,
   "metadata": {},
   "outputs": [],
   "source": []
  }
 ],
 "metadata": {
  "kernelspec": {
   "display_name": "python3",
   "language": "python",
   "name": "python3"
  }
 },
 "nbformat": 4,
 "nbformat_minor": 4
}
