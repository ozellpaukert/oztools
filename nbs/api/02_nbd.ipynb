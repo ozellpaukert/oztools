{
 "cells": [
  {
   "cell_type": "markdown",
   "id": "9c8cf725-f4c7-4bd1-ab7f-c523a908ac4a",
   "metadata": {},
   "source": [
    "# nbd\n",
    "\n",
    "> Extra command line utilities for nbdev"
   ]
  },
  {
   "cell_type": "code",
   "execution_count": null,
   "id": "2eb94c62-53b2-49a8-94db-f6619642c2b7",
   "metadata": {},
   "outputs": [],
   "source": [
    "#| default_exp nbd"
   ]
  },
  {
   "cell_type": "code",
   "execution_count": null,
   "id": "06942082-f99c-4350-95cd-27aa67151481",
   "metadata": {},
   "outputs": [],
   "source": [
    "#| hide\n",
    "from nbdev.showdoc import *"
   ]
  },
  {
   "cell_type": "code",
   "execution_count": null,
   "id": "9fd05be0-5aff-46d4-84df-03c3cbb808b3",
   "metadata": {},
   "outputs": [],
   "source": [
    "#| export\n",
    "from fastcore.all import *\n",
    "import itertools as it\n",
    "import os\n",
    "from ghapi.all import *\n",
    "\n",
    "import configparser\n",
    "from pathlib import Path\n",
    "\n",
    "from oztools.core import *"
   ]
  },
  {
   "cell_type": "code",
   "execution_count": null,
   "id": "6d32a6a8-6488-4333-94ad-7c7003511de5",
   "metadata": {},
   "outputs": [
    {
     "data": {
      "text/plain": [
       "'/home/mu/nbdev/test'"
      ]
     },
     "execution_count": null,
     "metadata": {},
     "output_type": "execute_result"
    }
   ],
   "source": [
    "%pwd"
   ]
  },
  {
   "cell_type": "code",
   "execution_count": null,
   "id": "2b356399-a2e2-436c-a088-501b722cf6a3",
   "metadata": {},
   "outputs": [],
   "source": [
    "#gh_new_repo(\"cadlab\", \"CAD tools for Jupyter notebooks\")"
   ]
  },
  {
   "cell_type": "code",
   "execution_count": null,
   "id": "b61d5b2f-c2cc-4124-9d75-dde600ec53fa",
   "metadata": {},
   "outputs": [
    {
     "data": {
      "text/plain": [
       "Path('/home/mu/data/repos/oztools_test_apache3')"
      ]
     },
     "execution_count": null,
     "metadata": {},
     "output_type": "execute_result"
    }
   ],
   "source": [
    "Path().cwd()"
   ]
  },
  {
   "cell_type": "code",
   "execution_count": null,
   "id": "31abe9ac-283b-42bb-8b53-c2a31102cf01",
   "metadata": {},
   "outputs": [],
   "source": [
    "from nbdev.cli import *"
   ]
  },
  {
   "cell_type": "code",
   "execution_count": null,
   "id": "967e6402-2c33-4cbb-b1da-8fc8e3955701",
   "metadata": {},
   "outputs": [],
   "source": [
    "#nbdev_new()"
   ]
  },
  {
   "cell_type": "code",
   "execution_count": null,
   "id": "b6fca912-ff9d-4dcf-a11c-4e1e7c21d5a6",
   "metadata": {},
   "outputs": [],
   "source": [
    "#api.repos.list_for_org(\"\")"
   ]
  },
  {
   "cell_type": "code",
   "execution_count": null,
   "id": "c8f0df35-7697-44ae-b9d5-248dd05815c3",
   "metadata": {},
   "outputs": [],
   "source": [
    "#| hide\n",
    "import nbdev; nbdev.nbdev_export()"
   ]
  },
  {
   "cell_type": "code",
   "execution_count": null,
   "id": "5689e33c-43d8-43dd-b845-66fa1825192d",
   "metadata": {},
   "outputs": [],
   "source": []
  }
 ],
 "metadata": {
  "kernelspec": {
   "display_name": "python3",
   "language": "python",
   "name": "python3"
  }
 },
 "nbformat": 4,
 "nbformat_minor": 5
}
